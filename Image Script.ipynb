{
 "cells": [
  {
   "cell_type": "code",
   "execution_count": 38,
   "metadata": {},
   "outputs": [
    {
     "name": "stdout",
     "output_type": "stream",
     "text": [
      "_06A6303.jpg\n",
      "_06A6309.jpg\n",
      "_06A6315.jpg\n",
      "_06A6315-2.jpg\n",
      "_06A6320.jpg\n",
      "_06A6323.jpg\n",
      "_06A6345.jpg\n",
      "_06A6349.jpg\n",
      "_06A6355.jpg\n",
      "_06A6372.jpg\n",
      "_06A6376.jpg\n",
      "_06A6377.jpg\n",
      "_06A6380.jpg\n",
      "_06A6382.jpg\n",
      "_06A6384.jpg\n",
      "_06A6385.jpg\n",
      "_06A6388.jpg\n",
      "_06A6390.jpg\n",
      "_06A6406.jpg\n",
      "_06A6413.jpg\n",
      "_06A6416.jpg\n",
      "_06A6422.jpg\n",
      "_06A6424.jpg\n",
      "_06A6427.jpg\n",
      "_06A6428.jpg\n",
      "_06A6443.jpg\n",
      "_06A6447.jpg\n",
      "_06A6463.jpg\n",
      "_06A6466.jpg\n",
      "_06A6470.jpg\n",
      "_06A6473.jpg\n",
      "_06A6473-2.jpg\n",
      "_06A6474.jpg\n",
      "_06A6474-2.jpg\n",
      "_06A6478.jpg\n",
      "_06A6486.jpg\n",
      "_06A6490.jpg\n",
      "_06A6493.jpg\n",
      "_06A6495.jpg\n",
      "_06A6500.jpg\n",
      "_06A6505.jpg\n",
      "_06A6512.jpg\n",
      "_06A6513.jpg\n",
      "_06A6518.jpg\n",
      "_06A6525.jpg\n",
      "_06A6531.jpg\n",
      "_06A6534.jpg\n",
      "_06A6536.jpg\n",
      "_06A6543.jpg\n",
      "_06A6545.jpg\n",
      "_06A6554.jpg\n",
      "_06A6558.jpg\n",
      "_06A6559.jpg\n",
      "_06A6563.jpg\n",
      "_06A6568.jpg\n",
      "_06A6574.jpg\n",
      "_06A6577.jpg\n",
      "_06A6579.jpg\n",
      "_06A6584.jpg\n",
      "_06A6591.jpg\n",
      "_06A6592.jpg\n",
      "_06A6596.jpg\n",
      "_06A6599.jpg\n",
      "_06A6603.jpg\n",
      "_06A6614.jpg\n",
      "_06A6616.jpg\n",
      "_06A6621.jpg\n",
      "_06A6627.jpg\n",
      "_06A6636.jpg\n",
      "_06A6637.jpg\n",
      "_06A6649.jpg\n",
      "_06A6652.jpg\n",
      "_06A6653.jpg\n",
      "_06A6657.jpg\n",
      "_06A6659.jpg\n",
      "_06A6666.jpg\n",
      "_06A6680.jpg\n",
      "_06A6682.jpg\n",
      "_06A6687.jpg\n",
      "_06A6691.jpg\n",
      "_06A6695.jpg\n",
      "_06A6697.jpg\n",
      "_06A6702.jpg\n",
      "_06A6706.jpg\n",
      "_06A6711.jpg\n",
      "_06A6716.jpg\n",
      "_06A6721.jpg\n"
     ]
    }
   ],
   "source": [
    "import os\n",
    "from PIL import Image\n",
    "\n",
    "path = 'images/proposal/photosToDisplay/'\n",
    "\n",
    "filepaths = []\n",
    "\n",
    "images = []\n",
    "\n",
    "def sort_func(x):\n",
    "    try:\n",
    "        return int(x[:-4])\n",
    "    except:\n",
    "        return x[:-4]\n",
    "\n",
    "for filename in sorted(os.listdir(os.path.join(os.getcwd(),path)), key=sort_func):\n",
    "    full_filename = os.path.join(os.getcwd(),path,filename)\n",
    "    im = Image.open(full_filename)\n",
    "    width, height = im.size\n",
    "    images.append({\n",
    "        \"filename\": filename,\n",
    "        \"width\": width,\n",
    "        \"height\": height\n",
    "    })\n",
    "    print(filename)"
   ]
  },
  {
   "cell_type": "code",
   "execution_count": 39,
   "metadata": {},
   "outputs": [
    {
     "data": {
      "text/plain": [
       "\"[{'filename': '_06A6303.jpg', 'width': 1000, 'height': 667}, {'filename': '_06A6309.jpg', 'width': 1000, 'height': 1500}, {'filename': '_06A6315.jpg', 'width': 1000, 'height': 667}, {'filename': '_06A6315-2.jpg', 'width': 1000, 'height': 667}, {'filename': '_06A6320.jpg', 'width': 1000, 'height': 667}, {'filename': '_06A6323.jpg', 'width': 1000, 'height': 667}, {'filename': '_06A6345.jpg', 'width': 1000, 'height': 667}, {'filename': '_06A6349.jpg', 'width': 1000, 'height': 1500}, {'filename': '_06A6355.jpg', 'width': 1000, 'height': 1500}, {'filename': '_06A6372.jpg', 'width': 1000, 'height': 667}, {'filename': '_06A6376.jpg', 'width': 1000, 'height': 667}, {'filename': '_06A6377.jpg', 'width': 1000, 'height': 667}, {'filename': '_06A6380.jpg', 'width': 1000, 'height': 667}, {'filename': '_06A6382.jpg', 'width': 1000, 'height': 667}, {'filename': '_06A6384.jpg', 'width': 1000, 'height': 667}, {'filename': '_06A6385.jpg', 'width': 1000, 'height': 667}, {'filename': '_06A6388.jpg', 'width': 1000, 'height': 667}, {'filename': '_06A6390.jpg', 'width': 1000, 'height': 667}, {'filename': '_06A6406.jpg', 'width': 1000, 'height': 667}, {'filename': '_06A6413.jpg', 'width': 1000, 'height': 1500}, {'filename': '_06A6416.jpg', 'width': 1000, 'height': 667}, {'filename': '_06A6422.jpg', 'width': 1000, 'height': 1500}, {'filename': '_06A6424.jpg', 'width': 1000, 'height': 1500}, {'filename': '_06A6427.jpg', 'width': 1000, 'height': 1500}, {'filename': '_06A6428.jpg', 'width': 1000, 'height': 667}, {'filename': '_06A6443.jpg', 'width': 1000, 'height': 1500}, {'filename': '_06A6447.jpg', 'width': 1000, 'height': 667}, {'filename': '_06A6463.jpg', 'width': 1000, 'height': 667}, {'filename': '_06A6466.jpg', 'width': 1000, 'height': 667}, {'filename': '_06A6470.jpg', 'width': 1000, 'height': 667}, {'filename': '_06A6473.jpg', 'width': 1000, 'height': 667}, {'filename': '_06A6473-2.jpg', 'width': 1000, 'height': 1500}, {'filename': '_06A6474.jpg', 'width': 1000, 'height': 667}, {'filename': '_06A6474-2.jpg', 'width': 1000, 'height': 1500}, {'filename': '_06A6478.jpg', 'width': 1000, 'height': 667}, {'filename': '_06A6486.jpg', 'width': 1000, 'height': 667}, {'filename': '_06A6490.jpg', 'width': 1000, 'height': 667}, {'filename': '_06A6493.jpg', 'width': 1000, 'height': 667}, {'filename': '_06A6495.jpg', 'width': 1000, 'height': 667}, {'filename': '_06A6500.jpg', 'width': 1000, 'height': 667}, {'filename': '_06A6505.jpg', 'width': 1000, 'height': 1500}, {'filename': '_06A6512.jpg', 'width': 1000, 'height': 667}, {'filename': '_06A6513.jpg', 'width': 1000, 'height': 667}, {'filename': '_06A6518.jpg', 'width': 1000, 'height': 1500}, {'filename': '_06A6525.jpg', 'width': 1000, 'height': 667}, {'filename': '_06A6531.jpg', 'width': 1000, 'height': 1500}, {'filename': '_06A6534.jpg', 'width': 1000, 'height': 1500}, {'filename': '_06A6536.jpg', 'width': 1000, 'height': 667}, {'filename': '_06A6543.jpg', 'width': 1000, 'height': 667}, {'filename': '_06A6545.jpg', 'width': 1000, 'height': 667}, {'filename': '_06A6554.jpg', 'width': 1000, 'height': 667}, {'filename': '_06A6558.jpg', 'width': 1000, 'height': 667}, {'filename': '_06A6559.jpg', 'width': 1000, 'height': 667}, {'filename': '_06A6563.jpg', 'width': 1000, 'height': 667}, {'filename': '_06A6568.jpg', 'width': 1000, 'height': 667}, {'filename': '_06A6574.jpg', 'width': 1000, 'height': 667}, {'filename': '_06A6577.jpg', 'width': 1000, 'height': 667}, {'filename': '_06A6579.jpg', 'width': 1000, 'height': 1500}, {'filename': '_06A6584.jpg', 'width': 1000, 'height': 667}, {'filename': '_06A6591.jpg', 'width': 1000, 'height': 667}, {'filename': '_06A6592.jpg', 'width': 1000, 'height': 1500}, {'filename': '_06A6596.jpg', 'width': 1000, 'height': 667}, {'filename': '_06A6599.jpg', 'width': 1000, 'height': 667}, {'filename': '_06A6603.jpg', 'width': 1000, 'height': 667}, {'filename': '_06A6614.jpg', 'width': 1000, 'height': 1500}, {'filename': '_06A6616.jpg', 'width': 1000, 'height': 1500}, {'filename': '_06A6621.jpg', 'width': 1000, 'height': 667}, {'filename': '_06A6627.jpg', 'width': 1000, 'height': 667}, {'filename': '_06A6636.jpg', 'width': 1000, 'height': 667}, {'filename': '_06A6637.jpg', 'width': 1000, 'height': 667}, {'filename': '_06A6649.jpg', 'width': 1000, 'height': 1500}, {'filename': '_06A6652.jpg', 'width': 1000, 'height': 1500}, {'filename': '_06A6653.jpg', 'width': 1000, 'height': 1500}, {'filename': '_06A6657.jpg', 'width': 1000, 'height': 1500}, {'filename': '_06A6659.jpg', 'width': 1000, 'height': 1500}, {'filename': '_06A6666.jpg', 'width': 1000, 'height': 1500}, {'filename': '_06A6680.jpg', 'width': 1000, 'height': 1500}, {'filename': '_06A6682.jpg', 'width': 1000, 'height': 1500}, {'filename': '_06A6687.jpg', 'width': 1000, 'height': 1500}, {'filename': '_06A6691.jpg', 'width': 1000, 'height': 1500}, {'filename': '_06A6695.jpg', 'width': 1000, 'height': 1500}, {'filename': '_06A6697.jpg', 'width': 1000, 'height': 667}, {'filename': '_06A6702.jpg', 'width': 1000, 'height': 1500}, {'filename': '_06A6706.jpg', 'width': 1000, 'height': 1500}, {'filename': '_06A6711.jpg', 'width': 1000, 'height': 1500}, {'filename': '_06A6716.jpg', 'width': 1000, 'height': 1500}, {'filename': '_06A6721.jpg', 'width': 1000, 'height': 667}]\""
      ]
     },
     "execution_count": 39,
     "metadata": {},
     "output_type": "execute_result"
    }
   ],
   "source": [
    "str(images)"
   ]
  },
  {
   "cell_type": "code",
   "execution_count": 26,
   "metadata": {},
   "outputs": [
    {
     "data": {
      "text/plain": [
       "1"
      ]
     },
     "execution_count": 26,
     "metadata": {},
     "output_type": "execute_result"
    }
   ],
   "source": []
  },
  {
   "cell_type": "code",
   "execution_count": null,
   "metadata": {},
   "outputs": [],
   "source": []
  }
 ],
 "metadata": {
  "kernelspec": {
   "display_name": "Python 3",
   "language": "python",
   "name": "python3"
  },
  "language_info": {
   "codemirror_mode": {
    "name": "ipython",
    "version": 3
   },
   "file_extension": ".py",
   "mimetype": "text/x-python",
   "name": "python",
   "nbconvert_exporter": "python",
   "pygments_lexer": "ipython3",
   "version": "3.7.4"
  }
 },
 "nbformat": 4,
 "nbformat_minor": 2
}
