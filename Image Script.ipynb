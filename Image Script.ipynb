{
 "cells": [
  {
   "cell_type": "code",
   "execution_count": 6,
   "metadata": {},
   "outputs": [
    {
     "name": "stdout",
     "output_type": "stream",
     "text": [
      "IMG-6341.jpg\n",
      "IMG-6344.jpg\n",
      "IMG-6346.jpg\n",
      "IMG-6334.jpg\n",
      "IMG-6325.jpg\n",
      "IMG-6328.jpg\n",
      "IMG-6317.jpg\n",
      "IMG-6311.jpg\n",
      "IMG-6310.jpg\n",
      "IMG-6310.jpg\n",
      "IMG-6311.jpg\n",
      "IMG-6317.jpg\n",
      "IMG-6325.jpg\n",
      "IMG-6328.jpg\n",
      "IMG-6334.jpg\n",
      "IMG-6341.jpg\n",
      "IMG-6344.jpg\n",
      "IMG-6346.jpg\n"
     ]
    }
   ],
   "source": [
    "import os\n",
    "from PIL import Image\n",
    "\n",
    "path = 'images/chicago/cityHall/'\n",
    "\n",
    "filepaths = []\n",
    "\n",
    "images = []\n",
    "\n",
    "def sort_func(x):\n",
    "    try:\n",
    "        return int(x[:-4])\n",
    "    except:\n",
    "        print(x)\n",
    "        return x[:-4]\n",
    "\n",
    "for filename in sorted(os.listdir(os.path.join(os.getcwd(),path)), key=sort_func):\n",
    "    full_filename = os.path.join(os.getcwd(),path,filename)\n",
    "    im = Image.open(full_filename)\n",
    "    width, height = im.size\n",
    "    images.append({\n",
    "        \"filename\": filename,\n",
    "        \"width\": 3024,\n",
    "        \"height\": 4032\n",
    "    })\n",
    "    print(filename)"
   ]
  },
  {
   "cell_type": "code",
   "execution_count": 7,
   "metadata": {},
   "outputs": [
    {
     "data": {
      "text/plain": [
       "\"[{'filename': 'IMG-6310.jpg', 'width': 3024, 'height': 4032}, {'filename': 'IMG-6311.jpg', 'width': 3024, 'height': 4032}, {'filename': 'IMG-6317.jpg', 'width': 3024, 'height': 4032}, {'filename': 'IMG-6325.jpg', 'width': 3024, 'height': 4032}, {'filename': 'IMG-6328.jpg', 'width': 3024, 'height': 4032}, {'filename': 'IMG-6334.jpg', 'width': 3024, 'height': 4032}, {'filename': 'IMG-6341.jpg', 'width': 3024, 'height': 4032}, {'filename': 'IMG-6344.jpg', 'width': 3024, 'height': 4032}, {'filename': 'IMG-6346.jpg', 'width': 3024, 'height': 4032}]\""
      ]
     },
     "execution_count": 7,
     "metadata": {},
     "output_type": "execute_result"
    }
   ],
   "source": [
    "str(images)"
   ]
  },
  {
   "cell_type": "code",
   "execution_count": null,
   "metadata": {
    "collapsed": true
   },
   "outputs": [],
   "source": []
  },
  {
   "cell_type": "code",
   "execution_count": null,
   "metadata": {
    "collapsed": true
   },
   "outputs": [],
   "source": []
  }
 ],
 "metadata": {
  "kernelspec": {
   "display_name": "Python 3",
   "language": "python",
   "name": "python3"
  },
  "language_info": {
   "codemirror_mode": {
    "name": "ipython",
    "version": 3
   },
   "file_extension": ".py",
   "mimetype": "text/x-python",
   "name": "python",
   "nbconvert_exporter": "python",
   "pygments_lexer": "ipython3",
   "version": "3.6.8"
  }
 },
 "nbformat": 4,
 "nbformat_minor": 2
}
