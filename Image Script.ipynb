{
 "cells": [
  {
   "cell_type": "code",
   "execution_count": 4,
   "metadata": {},
   "outputs": [
    {
     "name": "stdout",
     "output_type": "stream",
     "text": [
      "000001.jpg\n",
      "000002.jpg\n",
      "000003.jpg\n",
      "000005.jpg\n",
      "000007.jpg\n",
      "000008.jpg\n",
      "000009.jpg\n",
      "000010.jpg\n",
      "000011.jpg\n",
      "000012.jpg\n",
      "000013.jpg\n",
      "000014.jpg\n",
      "000016.jpg\n",
      "000017.jpg\n",
      "000019.jpg\n",
      "000022.jpg\n",
      "000023.jpg\n",
      "000024.jpg\n",
      "000025.jpg\n",
      "000026.jpg\n",
      "000027.jpg\n",
      "000028.jpg\n",
      "000029.jpg\n",
      "000030.jpg\n",
      "000031.jpg\n",
      "000034.jpg\n",
      "000035.jpg\n",
      "000036.jpg\n",
      "000037.jpg\n",
      "000040.jpg\n",
      "000041.jpg\n",
      "000042.jpg\n",
      "000043.jpg\n",
      "000044.jpg\n",
      "000045.jpg\n",
      "000046.jpg\n",
      "000047.jpg\n",
      "000048.jpg\n",
      "000049.jpg\n",
      "000050.jpg\n",
      "000053.jpg\n",
      "000056.jpg\n",
      "000057.jpg\n",
      "000060.jpg\n",
      "000061.jpg\n",
      "000063.jpg\n",
      "000064.jpg\n",
      "000065.jpg\n",
      "000066.jpg\n",
      "000067.jpg\n",
      "000068.jpg\n",
      "000069.jpg\n",
      "000070.jpg\n",
      "000071.jpg\n",
      "000072.jpg\n",
      "000074.jpg\n",
      "000077.jpg\n",
      "000078.jpg\n",
      "000080.jpg\n",
      "000082.jpg\n",
      "000084.jpg\n",
      "000085.jpg\n",
      "000087.jpg\n"
     ]
    }
   ],
   "source": [
    "import os\n",
    "from PIL import Image\n",
    "\n",
    "path = 'images/proposal/photosToDisplay/'\n",
    "\n",
    "filepaths = []\n",
    "\n",
    "images = []\n",
    "\n",
    "def sort_func(x):\n",
    "    try:\n",
    "        return int(x[:-4])\n",
    "    except:\n",
    "        print(x)\n",
    "        return x[:-4]\n",
    "\n",
    "for filename in sorted(os.listdir(os.path.join(os.getcwd(),path)), key=sort_func):\n",
    "    full_filename = os.path.join(os.getcwd(),path,filename)\n",
    "    im = Image.open(full_filename)\n",
    "    width, height = im.size\n",
    "    images.append({\n",
    "        \"filename\": filename,\n",
    "        \"width\": width,\n",
    "        \"height\": height\n",
    "    })\n",
    "    print(filename)"
   ]
  },
  {
   "cell_type": "code",
   "execution_count": 5,
   "metadata": {},
   "outputs": [
    {
     "data": {
      "text/plain": [
       "\"[{'filename': '000001.jpg', 'width': 1000, 'height': 667}, {'filename': '000002.jpg', 'width': 1000, 'height': 1500}, {'filename': '000003.jpg', 'width': 1000, 'height': 667}, {'filename': '000005.jpg', 'width': 1000, 'height': 667}, {'filename': '000007.jpg', 'width': 1000, 'height': 667}, {'filename': '000008.jpg', 'width': 1000, 'height': 1500}, {'filename': '000009.jpg', 'width': 1000, 'height': 1500}, {'filename': '000010.jpg', 'width': 1000, 'height': 667}, {'filename': '000011.jpg', 'width': 1000, 'height': 667}, {'filename': '000012.jpg', 'width': 1000, 'height': 667}, {'filename': '000013.jpg', 'width': 1000, 'height': 667}, {'filename': '000014.jpg', 'width': 1000, 'height': 667}, {'filename': '000016.jpg', 'width': 1000, 'height': 667}, {'filename': '000017.jpg', 'width': 1000, 'height': 667}, {'filename': '000019.jpg', 'width': 1000, 'height': 667}, {'filename': '000022.jpg', 'width': 1000, 'height': 1500}, {'filename': '000023.jpg', 'width': 1000, 'height': 1500}, {'filename': '000024.jpg', 'width': 1000, 'height': 1500}, {'filename': '000025.jpg', 'width': 1000, 'height': 667}, {'filename': '000026.jpg', 'width': 1000, 'height': 1500}, {'filename': '000027.jpg', 'width': 1000, 'height': 667}, {'filename': '000028.jpg', 'width': 1000, 'height': 667}, {'filename': '000029.jpg', 'width': 1000, 'height': 667}, {'filename': '000030.jpg', 'width': 1000, 'height': 667}, {'filename': '000031.jpg', 'width': 1000, 'height': 1500}, {'filename': '000034.jpg', 'width': 1000, 'height': 667}, {'filename': '000035.jpg', 'width': 1000, 'height': 667}, {'filename': '000036.jpg', 'width': 1000, 'height': 667}, {'filename': '000037.jpg', 'width': 1000, 'height': 667}, {'filename': '000040.jpg', 'width': 1000, 'height': 667}, {'filename': '000041.jpg', 'width': 1000, 'height': 1500}, {'filename': '000042.jpg', 'width': 1000, 'height': 667}, {'filename': '000043.jpg', 'width': 1000, 'height': 667}, {'filename': '000044.jpg', 'width': 1000, 'height': 1500}, {'filename': '000045.jpg', 'width': 1000, 'height': 667}, {'filename': '000046.jpg', 'width': 1000, 'height': 1500}, {'filename': '000047.jpg', 'width': 1000, 'height': 1500}, {'filename': '000048.jpg', 'width': 1000, 'height': 667}, {'filename': '000049.jpg', 'width': 1000, 'height': 667}, {'filename': '000050.jpg', 'width': 1000, 'height': 667}, {'filename': '000053.jpg', 'width': 1000, 'height': 667}, {'filename': '000056.jpg', 'width': 1000, 'height': 667}, {'filename': '000057.jpg', 'width': 1000, 'height': 667}, {'filename': '000060.jpg', 'width': 1000, 'height': 667}, {'filename': '000061.jpg', 'width': 1000, 'height': 1500}, {'filename': '000063.jpg', 'width': 1000, 'height': 667}, {'filename': '000064.jpg', 'width': 1000, 'height': 667}, {'filename': '000065.jpg', 'width': 1000, 'height': 1500}, {'filename': '000066.jpg', 'width': 1000, 'height': 1500}, {'filename': '000067.jpg', 'width': 1000, 'height': 667}, {'filename': '000068.jpg', 'width': 1000, 'height': 667}, {'filename': '000069.jpg', 'width': 1000, 'height': 667}, {'filename': '000070.jpg', 'width': 1000, 'height': 667}, {'filename': '000071.jpg', 'width': 1000, 'height': 1500}, {'filename': '000072.jpg', 'width': 1000, 'height': 1500}, {'filename': '000074.jpg', 'width': 1000, 'height': 1500}, {'filename': '000077.jpg', 'width': 1000, 'height': 1500}, {'filename': '000078.jpg', 'width': 1000, 'height': 1500}, {'filename': '000080.jpg', 'width': 1000, 'height': 1500}, {'filename': '000082.jpg', 'width': 1000, 'height': 667}, {'filename': '000084.jpg', 'width': 1000, 'height': 1500}, {'filename': '000085.jpg', 'width': 1000, 'height': 1500}, {'filename': '000087.jpg', 'width': 1000, 'height': 667}]\""
      ]
     },
     "execution_count": 5,
     "metadata": {},
     "output_type": "execute_result"
    }
   ],
   "source": [
    "str(images)"
   ]
  },
  {
   "cell_type": "code",
   "execution_count": null,
   "metadata": {},
   "outputs": [],
   "source": []
  },
  {
   "cell_type": "code",
   "execution_count": null,
   "metadata": {
    "collapsed": true
   },
   "outputs": [],
   "source": []
  }
 ],
 "metadata": {
  "kernelspec": {
   "display_name": "Python 3",
   "language": "python",
   "name": "python3"
  },
  "language_info": {
   "codemirror_mode": {
    "name": "ipython",
    "version": 3
   },
   "file_extension": ".py",
   "mimetype": "text/x-python",
   "name": "python",
   "nbconvert_exporter": "python",
   "pygments_lexer": "ipython3",
   "version": "3.6.8"
  }
 },
 "nbformat": 4,
 "nbformat_minor": 2
}
